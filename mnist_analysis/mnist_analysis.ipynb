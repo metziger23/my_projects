{
 "cells": [
  {
   "cell_type": "markdown",
   "metadata": {},
   "source": [
    "# Gulyi Mikhail"
   ]
  },
  {
   "cell_type": "markdown",
   "metadata": {},
   "source": [
    "# Exploring handwritten digit classification"
   ]
  },
  {
   "cell_type": "code",
   "execution_count": 1,
   "metadata": {},
   "outputs": [],
   "source": [
    "import datetime\n",
    "from tensorflow import keras\n",
    "from tensorflow.keras.datasets import mnist\n",
    "from tensorflow.keras.models import Sequential\n",
    "from tensorflow.keras.layers import Dense, Dropout, Activation, Flatten\n",
    "from tensorflow.keras.layers import Conv2D, MaxPooling2D\n",
    "from tensorflow.keras import backend as K\n",
    "import matplotlib.pyplot as plt"
   ]
  },
  {
   "cell_type": "code",
   "execution_count": 2,
   "metadata": {},
   "outputs": [],
   "source": [
    "batch_size = 128\n",
    "num_classes = 10\n",
    "img_rows, img_cols = 28, 28\n",
    "filters = 32\n",
    "pool_size = 2\n",
    "kernel_size = 3\n",
    "now = datetime.datetime.now"
   ]
  },
  {
   "cell_type": "code",
   "execution_count": 3,
   "metadata": {},
   "outputs": [
    {
     "data": {
      "text/plain": [
       "(28, 28, 1)"
      ]
     },
     "execution_count": 3,
     "metadata": {},
     "output_type": "execute_result"
    }
   ],
   "source": [
    "if K.image_data_format() == 'channels_first':\n",
    "    input_shape = (1, img_rows, img_cols)\n",
    "else:\n",
    "    input_shape = (img_rows, img_cols, 1)\n",
    "input_shape    "
   ]
  },
  {
   "cell_type": "code",
   "execution_count": 4,
   "metadata": {},
   "outputs": [],
   "source": [
    "(x_train, y_train), (x_test, y_test) = mnist.load_data()"
   ]
  },
  {
   "cell_type": "code",
   "execution_count": 5,
   "metadata": {},
   "outputs": [
    {
     "name": "stdout",
     "output_type": "stream",
     "text": [
      "3\n"
     ]
    },
    {
     "data": {
      "image/png": "[encoded data removed]",
      "text/plain": [
       "<Figure size 432x288 with 1 Axes>"
      ]
     },
     "metadata": {
      "needs_background": "light"
     },
     "output_type": "display_data"
    }
   ],
   "source": [
    "plt.imshow(x_train[7])\n",
    "print(y_train[7])"
   ]
  },
  {
   "cell_type": "code",
   "execution_count": 6,
   "metadata": {},
   "outputs": [
    {
     "data": {
      "text/plain": [
       "(28, 28, 1)"
      ]
     },
     "execution_count": 6,
     "metadata": {},
     "output_type": "execute_result"
    }
   ],
   "source": [
    "input_shape"
   ]
  },
  {
   "cell_type": "code",
   "execution_count": 7,
   "metadata": {},
   "outputs": [
    {
     "name": "stdout",
     "output_type": "stream",
     "text": [
      "Model: \"sequential\"\n",
      "_________________________________________________________________\n",
      "Layer (type)                 Output Shape              Param #   \n",
      "=================================================================\n",
      "conv2d (Conv2D)              (None, 26, 26, 32)        320       \n",
      "_________________________________________________________________\n",
      "activation (Activation)      (None, 26, 26, 32)        0         \n",
      "_________________________________________________________________\n",
      "conv2d_1 (Conv2D)            (None, 24, 24, 32)        9248      \n",
      "_________________________________________________________________\n",
      "activation_1 (Activation)    (None, 24, 24, 32)        0         \n",
      "_________________________________________________________________\n",
      "max_pooling2d (MaxPooling2D) (None, 12, 12, 32)        0         \n",
      "_________________________________________________________________\n",
      "dropout (Dropout)            (None, 12, 12, 32)        0         \n",
      "_________________________________________________________________\n",
      "flatten (Flatten)            (None, 4608)              0         \n",
      "_________________________________________________________________\n",
      "dense (Dense)                (None, 128)               589952    \n",
      "_________________________________________________________________\n",
      "activation_2 (Activation)    (None, 128)               0         \n",
      "_________________________________________________________________\n",
      "dropout_1 (Dropout)          (None, 128)               0         \n",
      "_________________________________________________________________\n",
      "dense_1 (Dense)              (None, 10)                1290      \n",
      "_________________________________________________________________\n",
      "activation_3 (Activation)    (None, 10)                0         \n",
      "=================================================================\n",
      "Total params: 600,810\n",
      "Trainable params: 600,810\n",
      "Non-trainable params: 0\n",
      "_________________________________________________________________\n"
     ]
    }
   ],
   "source": [
    "model_1 = Sequential()\n",
    "model_1.add(Conv2D(filters, kernel_size,\n",
    "            padding='valid', input_shape=input_shape))\n",
    "model_1.add(Activation('relu'))\n",
    "model_1.add(Conv2D(filters, kernel_size))\n",
    "model_1.add(Activation('relu'))\n",
    "model_1.add(MaxPooling2D(pool_size=pool_size))\n",
    "model_1.add(Dropout(0.25))\n",
    "model_1.add(Flatten())\n",
    "model_1.add(Dense(128))\n",
    "model_1.add(Activation('relu'))\n",
    "model_1.add(Dropout(0.5))\n",
    "model_1.add(Dense(num_classes))\n",
    "model_1.add(Activation('softmax'))\n",
    "model_1.summary()"
   ]
  },
  {
   "cell_type": "code",
   "execution_count": 9,
   "metadata": {},
   "outputs": [],
   "source": [
    "def train_model(model, train, test, num_classes, epochs):\n",
    "    x_train = train[0].reshape((train[0].shape[0],) + input_shape)\n",
    "    x_test = test[0].reshape((test[0].shape[0],) + input_shape)\n",
    "    x_train = x_train.astype('float32')\n",
    "    x_test = x_test.astype('float32')\n",
    "    x_train /= 255\n",
    "    x_test /= 255\n",
    "    print('x_train shape:', x_train.shape)\n",
    "    print(x_train.shape[0], 'train samples')\n",
    "    print(x_test.shape[0], 'test samples')\n",
    "\n",
    "    y_train = keras.utils.to_categorical(train[1], num_classes)\n",
    "    y_test = keras.utils.to_categorical(test[1], num_classes)\n",
    "\n",
    "    model.compile(loss='categorical_crossentropy',\n",
    "                  optimizer='adadelta',\n",
    "                  metrics=['accuracy'])\n",
    "    t = now()\n",
    "    model.fit(x_train, y_train,\n",
    "              batch_size=batch_size,\n",
    "              epochs=epochs,\n",
    "              verbose=1,\n",
    "              validation_data=(x_test, y_test))\n",
    "    print('Training time: %s' % (now() - t))\n",
    "    score = model.evaluate(x_test, y_test, verbose=0)\n",
    "    print('Test score:', score[0])\n",
    "    print('Test accuracy:', score[1])"
   ]
  },
  {
   "cell_type": "code",
   "execution_count": null,
   "metadata": {},
   "outputs": [],
   "source": [
    "import tensorflow as tf"
   ]
  },
  {
   "cell_type": "code",
   "execution_count": 10,
   "metadata": {},
   "outputs": [
    {
     "name": "stdout",
     "output_type": "stream",
     "text": [
      "x_train shape: (60000, 28, 28, 1)\n",
      "60000 train samples\n",
      "10000 test samples\n",
      "Epoch 1/100\n",
      "469/469 [==============================] - 5s 6ms/step - loss: 2.2948 - accuracy: 0.1234 - val_loss: 2.2849 - val_accuracy: 0.1635\n",
      "Epoch 2/100\n",
      "469/469 [==============================] - 3s 6ms/step - loss: 2.2799 - accuracy: 0.1672 - val_loss: 2.2671 - val_accuracy: 0.3023\n",
      "Epoch 3/100\n",
      "469/469 [==============================] - 3s 6ms/step - loss: 2.2620 - accuracy: 0.2237 - val_loss: 2.2452 - val_accuracy: 0.4533\n",
      "Epoch 4/100\n",
      "469/469 [==============================] - 3s 6ms/step - loss: 2.2400 - accuracy: 0.2783 - val_loss: 2.2173 - val_accuracy: 0.5629\n",
      "Epoch 5/100\n",
      "469/469 [==============================] - 3s 6ms/step - loss: 2.2113 - accuracy: 0.3243 - val_loss: 2.1809 - val_accuracy: 0.6360\n",
      "Epoch 6/100\n",
      "469/469 [==============================] - 3s 6ms/step - loss: 2.1733 - accuracy: 0.3685 - val_loss: 2.1320 - val_accuracy: 0.6799\n",
      "Epoch 7/100\n",
      "469/469 [==============================] - 3s 6ms/step - loss: 2.1226 - accuracy: 0.4141 - val_loss: 2.0669 - val_accuracy: 0.7001\n",
      "Epoch 8/100\n",
      "469/469 [==============================] - 3s 6ms/step - loss: 2.0560 - accuracy: 0.4493 - val_loss: 1.9809 - val_accuracy: 0.7201\n",
      "Epoch 9/100\n",
      "469/469 [==============================] - 3s 6ms/step - loss: 1.9707 - accuracy: 0.4809 - val_loss: 1.8706 - val_accuracy: 0.7393\n",
      "Epoch 10/100\n",
      "469/469 [==============================] - 3s 6ms/step - loss: 1.8662 - accuracy: 0.5123 - val_loss: 1.7368 - val_accuracy: 0.7585\n",
      "Epoch 11/100\n",
      "469/469 [==============================] - 3s 6ms/step - loss: 1.7467 - accuracy: 0.5464 - val_loss: 1.5854 - val_accuracy: 0.7764\n",
      "Epoch 12/100\n",
      "469/469 [==============================] - 3s 6ms/step - loss: 1.6199 - accuracy: 0.5727 - val_loss: 1.4276 - val_accuracy: 0.7886\n",
      "Epoch 13/100\n",
      "469/469 [==============================] - 3s 6ms/step - loss: 1.4991 - accuracy: 0.5923 - val_loss: 1.2785 - val_accuracy: 0.8016\n",
      "Epoch 14/100\n",
      "469/469 [==============================] - 3s 6ms/step - loss: 1.3883 - accuracy: 0.6146 - val_loss: 1.1468 - val_accuracy: 0.8106\n",
      "Epoch 15/100\n",
      "469/469 [==============================] - 3s 6ms/step - loss: 1.2921 - accuracy: 0.6328 - val_loss: 1.0360 - val_accuracy: 0.8180\n",
      "Epoch 16/100\n",
      "469/469 [==============================] - 3s 6ms/step - loss: 1.2128 - accuracy: 0.6468 - val_loss: 0.9448 - val_accuracy: 0.8237\n",
      "Epoch 17/100\n",
      "469/469 [==============================] - 3s 6ms/step - loss: 1.1443 - accuracy: 0.6632 - val_loss: 0.8704 - val_accuracy: 0.8294\n",
      "Epoch 18/100\n",
      "469/469 [==============================] - 3s 6ms/step - loss: 1.0821 - accuracy: 0.6774 - val_loss: 0.8088 - val_accuracy: 0.8343\n",
      "Epoch 19/100\n",
      "469/469 [==============================] - 3s 6ms/step - loss: 1.0348 - accuracy: 0.6859 - val_loss: 0.7577 - val_accuracy: 0.8387\n",
      "Epoch 20/100\n",
      "469/469 [==============================] - 3s 6ms/step - loss: 0.9918 - accuracy: 0.6992 - val_loss: 0.7146 - val_accuracy: 0.8440\n",
      "Epoch 21/100\n",
      "469/469 [==============================] - 3s 6ms/step - loss: 0.9557 - accuracy: 0.7070 - val_loss: 0.6788 - val_accuracy: 0.8490\n",
      "Epoch 22/100\n",
      "469/469 [==============================] - 3s 6ms/step - loss: 0.9217 - accuracy: 0.7159 - val_loss: 0.6480 - val_accuracy: 0.8515\n",
      "Epoch 23/100\n",
      "469/469 [==============================] - 3s 6ms/step - loss: 0.8926 - accuracy: 0.7236 - val_loss: 0.6202 - val_accuracy: 0.8562\n",
      "Epoch 24/100\n",
      "469/469 [==============================] - 3s 6ms/step - loss: 0.8633 - accuracy: 0.7319 - val_loss: 0.5963 - val_accuracy: 0.8588\n",
      "Epoch 25/100\n",
      "469/469 [==============================] - 3s 6ms/step - loss: 0.8420 - accuracy: 0.7392 - val_loss: 0.5752 - val_accuracy: 0.8623\n",
      "Epoch 26/100\n",
      "469/469 [==============================] - 3s 6ms/step - loss: 0.8196 - accuracy: 0.7459 - val_loss: 0.5560 - val_accuracy: 0.8667\n",
      "Epoch 27/100\n",
      "469/469 [==============================] - 3s 6ms/step - loss: 0.7990 - accuracy: 0.7513 - val_loss: 0.5391 - val_accuracy: 0.8689\n",
      "Epoch 28/100\n",
      "469/469 [==============================] - 3s 6ms/step - loss: 0.7822 - accuracy: 0.7571 - val_loss: 0.5235 - val_accuracy: 0.8711\n",
      "Epoch 29/100\n",
      "469/469 [==============================] - 3s 6ms/step - loss: 0.7634 - accuracy: 0.7607 - val_loss: 0.5094 - val_accuracy: 0.8736\n",
      "Epoch 30/100\n",
      "469/469 [==============================] - 3s 6ms/step - loss: 0.7522 - accuracy: 0.7649 - val_loss: 0.4966 - val_accuracy: 0.8749\n",
      "Epoch 31/100\n",
      "469/469 [==============================] - 3s 6ms/step - loss: 0.7400 - accuracy: 0.7686 - val_loss: 0.4854 - val_accuracy: 0.8762\n",
      "Epoch 32/100\n",
      "469/469 [==============================] - 3s 6ms/step - loss: 0.7269 - accuracy: 0.7732 - val_loss: 0.4746 - val_accuracy: 0.8785\n",
      "Epoch 33/100\n",
      "469/469 [==============================] - 3s 6ms/step - loss: 0.7088 - accuracy: 0.7797 - val_loss: 0.4641 - val_accuracy: 0.8801\n",
      "Epoch 34/100\n",
      "469/469 [==============================] - 3s 6ms/step - loss: 0.6989 - accuracy: 0.7813 - val_loss: 0.4556 - val_accuracy: 0.8811\n",
      "Epoch 35/100\n",
      "469/469 [==============================] - 3s 6ms/step - loss: 0.6921 - accuracy: 0.7847 - val_loss: 0.4469 - val_accuracy: 0.8826\n",
      "Epoch 36/100\n",
      "469/469 [==============================] - 3s 6ms/step - loss: 0.6783 - accuracy: 0.7885 - val_loss: 0.4385 - val_accuracy: 0.8834\n",
      "Epoch 37/100\n",
      "469/469 [==============================] - 3s 6ms/step - loss: 0.6681 - accuracy: 0.7908 - val_loss: 0.4311 - val_accuracy: 0.8854\n",
      "Epoch 38/100\n",
      "469/469 [==============================] - 3s 6ms/step - loss: 0.6611 - accuracy: 0.7934 - val_loss: 0.4244 - val_accuracy: 0.8860\n",
      "Epoch 39/100\n",
      "469/469 [==============================] - 3s 6ms/step - loss: 0.6516 - accuracy: 0.7971 - val_loss: 0.4179 - val_accuracy: 0.8865\n",
      "Epoch 40/100\n",
      "469/469 [==============================] - 3s 6ms/step - loss: 0.6390 - accuracy: 0.8011 - val_loss: 0.4112 - val_accuracy: 0.8885\n",
      "Epoch 41/100\n",
      "469/469 [==============================] - 3s 6ms/step - loss: 0.6362 - accuracy: 0.8023 - val_loss: 0.4053 - val_accuracy: 0.8905\n",
      "Epoch 42/100\n",
      "469/469 [==============================] - 3s 6ms/step - loss: 0.6236 - accuracy: 0.8049 - val_loss: 0.3999 - val_accuracy: 0.8910\n",
      "Epoch 43/100\n",
      "469/469 [==============================] - 3s 6ms/step - loss: 0.6171 - accuracy: 0.8063 - val_loss: 0.3946 - val_accuracy: 0.8918\n",
      "Epoch 44/100\n",
      "469/469 [==============================] - 3s 6ms/step - loss: 0.6152 - accuracy: 0.8058 - val_loss: 0.3899 - val_accuracy: 0.8929\n",
      "Epoch 45/100\n",
      "469/469 [==============================] - 3s 6ms/step - loss: 0.6053 - accuracy: 0.8110 - val_loss: 0.3849 - val_accuracy: 0.8937\n",
      "Epoch 46/100\n",
      "469/469 [==============================] - 3s 6ms/step - loss: 0.6008 - accuracy: 0.8116 - val_loss: 0.3809 - val_accuracy: 0.8943\n",
      "Epoch 47/100\n",
      "469/469 [==============================] - 3s 6ms/step - loss: 0.5942 - accuracy: 0.8120 - val_loss: 0.3765 - val_accuracy: 0.8964\n",
      "Epoch 48/100\n",
      "469/469 [==============================] - 3s 6ms/step - loss: 0.5883 - accuracy: 0.8173 - val_loss: 0.3719 - val_accuracy: 0.8969\n",
      "Epoch 49/100\n",
      "469/469 [==============================] - 3s 6ms/step - loss: 0.5845 - accuracy: 0.8176 - val_loss: 0.3685 - val_accuracy: 0.8988\n",
      "Epoch 50/100\n",
      "469/469 [==============================] - 3s 6ms/step - loss: 0.5745 - accuracy: 0.8208 - val_loss: 0.3646 - val_accuracy: 0.8995\n",
      "Epoch 51/100\n",
      "469/469 [==============================] - 3s 6ms/step - loss: 0.5727 - accuracy: 0.8216 - val_loss: 0.3612 - val_accuracy: 0.9006\n",
      "Epoch 52/100\n",
      "469/469 [==============================] - 3s 6ms/step - loss: 0.5660 - accuracy: 0.8247 - val_loss: 0.3575 - val_accuracy: 0.9010\n",
      "Epoch 53/100\n",
      "469/469 [==============================] - 3s 6ms/step - loss: 0.5621 - accuracy: 0.8253 - val_loss: 0.3540 - val_accuracy: 0.9020\n",
      "Epoch 54/100\n",
      "469/469 [==============================] - 3s 6ms/step - loss: 0.5601 - accuracy: 0.8271 - val_loss: 0.3510 - val_accuracy: 0.9025\n",
      "Epoch 55/100\n",
      "469/469 [==============================] - 3s 6ms/step - loss: 0.5520 - accuracy: 0.8299 - val_loss: 0.3477 - val_accuracy: 0.9030\n",
      "Epoch 56/100\n",
      "469/469 [==============================] - 3s 6ms/step - loss: 0.5453 - accuracy: 0.8313 - val_loss: 0.3441 - val_accuracy: 0.9039\n",
      "Epoch 57/100\n",
      "469/469 [==============================] - 3s 6ms/step - loss: 0.5431 - accuracy: 0.8314 - val_loss: 0.3415 - val_accuracy: 0.9053\n",
      "Epoch 58/100\n",
      "469/469 [==============================] - 3s 6ms/step - loss: 0.5378 - accuracy: 0.8336 - val_loss: 0.3385 - val_accuracy: 0.9063\n",
      "Epoch 59/100\n",
      "469/469 [==============================] - 3s 6ms/step - loss: 0.5365 - accuracy: 0.8332 - val_loss: 0.3357 - val_accuracy: 0.9069\n",
      "Epoch 60/100\n",
      "469/469 [==============================] - 3s 6ms/step - loss: 0.5333 - accuracy: 0.8329 - val_loss: 0.3329 - val_accuracy: 0.9071\n",
      "Epoch 61/100\n",
      "469/469 [==============================] - 3s 6ms/step - loss: 0.5289 - accuracy: 0.8368 - val_loss: 0.3307 - val_accuracy: 0.9079\n",
      "Epoch 62/100\n",
      "469/469 [==============================] - 3s 6ms/step - loss: 0.5223 - accuracy: 0.8378 - val_loss: 0.3280 - val_accuracy: 0.9085\n",
      "Epoch 63/100\n",
      "469/469 [==============================] - 3s 6ms/step - loss: 0.5214 - accuracy: 0.8385 - val_loss: 0.3257 - val_accuracy: 0.9090\n",
      "Epoch 64/100\n",
      "469/469 [==============================] - 3s 6ms/step - loss: 0.5219 - accuracy: 0.8390 - val_loss: 0.3235 - val_accuracy: 0.9101\n",
      "Epoch 65/100\n",
      "469/469 [==============================] - 3s 6ms/step - loss: 0.5126 - accuracy: 0.8404 - val_loss: 0.3208 - val_accuracy: 0.9103\n",
      "Epoch 66/100\n",
      "469/469 [==============================] - 3s 6ms/step - loss: 0.5112 - accuracy: 0.8413 - val_loss: 0.3182 - val_accuracy: 0.9111\n",
      "Epoch 67/100\n",
      "469/469 [==============================] - 3s 6ms/step - loss: 0.5081 - accuracy: 0.8426 - val_loss: 0.3162 - val_accuracy: 0.9114\n",
      "Epoch 68/100\n",
      "469/469 [==============================] - 3s 6ms/step - loss: 0.5030 - accuracy: 0.8453 - val_loss: 0.3136 - val_accuracy: 0.9121\n",
      "Epoch 69/100\n",
      "469/469 [==============================] - 3s 6ms/step - loss: 0.5061 - accuracy: 0.8439 - val_loss: 0.3120 - val_accuracy: 0.9123\n",
      "Epoch 70/100\n",
      "469/469 [==============================] - 3s 6ms/step - loss: 0.4989 - accuracy: 0.8474 - val_loss: 0.3098 - val_accuracy: 0.9129\n",
      "Epoch 71/100\n",
      "469/469 [==============================] - 3s 6ms/step - loss: 0.4937 - accuracy: 0.8472 - val_loss: 0.3078 - val_accuracy: 0.9132\n",
      "Epoch 72/100\n",
      "469/469 [==============================] - 3s 6ms/step - loss: 0.4911 - accuracy: 0.8470 - val_loss: 0.3057 - val_accuracy: 0.9133\n",
      "Epoch 73/100\n",
      "469/469 [==============================] - 3s 6ms/step - loss: 0.4884 - accuracy: 0.8491 - val_loss: 0.3038 - val_accuracy: 0.9139\n",
      "Epoch 74/100\n",
      "469/469 [==============================] - 3s 6ms/step - loss: 0.4905 - accuracy: 0.8490 - val_loss: 0.3019 - val_accuracy: 0.9146\n",
      "Epoch 75/100\n",
      "469/469 [==============================] - 3s 6ms/step - loss: 0.4829 - accuracy: 0.8525 - val_loss: 0.3000 - val_accuracy: 0.9147\n",
      "Epoch 76/100\n",
      "469/469 [==============================] - 3s 6ms/step - loss: 0.4843 - accuracy: 0.8497 - val_loss: 0.2981 - val_accuracy: 0.9153\n",
      "Epoch 77/100\n",
      "469/469 [==============================] - 3s 6ms/step - loss: 0.4774 - accuracy: 0.8522 - val_loss: 0.2960 - val_accuracy: 0.9159\n",
      "Epoch 78/100\n",
      "469/469 [==============================] - 3s 6ms/step - loss: 0.4738 - accuracy: 0.8541 - val_loss: 0.2945 - val_accuracy: 0.9155\n",
      "Epoch 79/100\n",
      "469/469 [==============================] - 3s 6ms/step - loss: 0.4739 - accuracy: 0.8523 - val_loss: 0.2927 - val_accuracy: 0.9157\n",
      "Epoch 80/100\n",
      "469/469 [==============================] - 3s 6ms/step - loss: 0.4734 - accuracy: 0.8562 - val_loss: 0.2912 - val_accuracy: 0.9159\n",
      "Epoch 81/100\n",
      "469/469 [==============================] - 3s 6ms/step - loss: 0.4731 - accuracy: 0.8562 - val_loss: 0.2896 - val_accuracy: 0.9163\n",
      "Epoch 82/100\n",
      "469/469 [==============================] - 3s 6ms/step - loss: 0.4635 - accuracy: 0.8568 - val_loss: 0.2880 - val_accuracy: 0.9169\n",
      "Epoch 83/100\n",
      "469/469 [==============================] - 3s 6ms/step - loss: 0.4633 - accuracy: 0.8573 - val_loss: 0.2863 - val_accuracy: 0.9172\n",
      "Epoch 84/100\n",
      "469/469 [==============================] - 3s 6ms/step - loss: 0.4617 - accuracy: 0.8573 - val_loss: 0.2848 - val_accuracy: 0.9176\n",
      "Epoch 85/100\n",
      "469/469 [==============================] - 3s 6ms/step - loss: 0.4621 - accuracy: 0.8580 - val_loss: 0.2834 - val_accuracy: 0.9185\n",
      "Epoch 86/100\n",
      "469/469 [==============================] - 3s 6ms/step - loss: 0.4638 - accuracy: 0.8576 - val_loss: 0.2820 - val_accuracy: 0.9191\n",
      "Epoch 87/100\n",
      "469/469 [==============================] - 3s 6ms/step - loss: 0.4553 - accuracy: 0.8604 - val_loss: 0.2805 - val_accuracy: 0.9197\n",
      "Epoch 88/100\n",
      "469/469 [==============================] - 3s 6ms/step - loss: 0.4593 - accuracy: 0.8591 - val_loss: 0.2789 - val_accuracy: 0.9198\n",
      "Epoch 89/100\n",
      "469/469 [==============================] - 3s 6ms/step - loss: 0.4541 - accuracy: 0.8613 - val_loss: 0.2774 - val_accuracy: 0.9202\n",
      "Epoch 90/100\n",
      "469/469 [==============================] - 3s 6ms/step - loss: 0.4486 - accuracy: 0.8623 - val_loss: 0.2761 - val_accuracy: 0.9200\n",
      "Epoch 91/100\n",
      "469/469 [==============================] - 3s 6ms/step - loss: 0.4495 - accuracy: 0.8625 - val_loss: 0.2748 - val_accuracy: 0.9210\n",
      "Epoch 92/100\n",
      "469/469 [==============================] - 3s 6ms/step - loss: 0.4457 - accuracy: 0.8648 - val_loss: 0.2733 - val_accuracy: 0.9210\n",
      "Epoch 93/100\n",
      "469/469 [==============================] - 3s 6ms/step - loss: 0.4402 - accuracy: 0.8652 - val_loss: 0.2719 - val_accuracy: 0.9216\n",
      "Epoch 94/100\n",
      "469/469 [==============================] - 3s 6ms/step - loss: 0.4451 - accuracy: 0.8644 - val_loss: 0.2704 - val_accuracy: 0.9219\n",
      "Epoch 95/100\n",
      "469/469 [==============================] - 3s 6ms/step - loss: 0.4411 - accuracy: 0.8641 - val_loss: 0.2694 - val_accuracy: 0.9222\n",
      "Epoch 96/100\n",
      "469/469 [==============================] - 3s 6ms/step - loss: 0.4405 - accuracy: 0.8664 - val_loss: 0.2679 - val_accuracy: 0.9230\n",
      "Epoch 97/100\n",
      "469/469 [==============================] - 3s 6ms/step - loss: 0.4392 - accuracy: 0.8655 - val_loss: 0.2669 - val_accuracy: 0.9228\n",
      "Epoch 98/100\n",
      "469/469 [==============================] - 3s 6ms/step - loss: 0.4360 - accuracy: 0.8658 - val_loss: 0.2656 - val_accuracy: 0.9231\n",
      "Epoch 99/100\n",
      "469/469 [==============================] - 3s 6ms/step - loss: 0.4331 - accuracy: 0.8671 - val_loss: 0.2643 - val_accuracy: 0.9235\n",
      "Epoch 100/100\n",
      "469/469 [==============================] - 3s 6ms/step - loss: 0.4295 - accuracy: 0.8677 - val_loss: 0.2629 - val_accuracy: 0.9234\n",
      "Training time: 0:04:40.619487\n",
      "Test score: 0.26294636726379395\n",
      "Test accuracy: 0.9233999848365784\n"
     ]
    }
   ],
   "source": [
    "with tf.device('/GPU:0'):\n",
    "    train_model(model=model_1, train=(x_train, y_train), test=(\n",
    "        x_test, y_test), num_classes=num_classes, epochs=100)\n"
   ]
  },
  {
   "cell_type": "code",
   "execution_count": 79,
   "metadata": {},
   "outputs": [
    {
     "name": "stdout",
     "output_type": "stream",
     "text": [
      "True value: 6\n",
      "Predicted value: 6\n"
     ]
    },
    {
     "data": {
      "image/png": "[encoded data removed]",
      "text/plain": [
       "<Figure size 432x288 with 1 Axes>"
      ]
     },
     "metadata": {
      "needs_background": "light"
     },
     "output_type": "display_data"
    }
   ],
   "source": [
    "from random import randint\n",
    "import numpy as np\n",
    "random_number = randint(0, x_test.shape[0]-1)\n",
    "plt.imshow(x_test[random_number])\n",
    "print('True value:', y_test[random_number])\n",
    "val = x_test[random_number, np.newaxis]\n",
    "val = val.reshape((val.shape[0],) + input_shape)\n",
    "val.shape\n",
    "val = val.astype('float32')\n",
    "val /= 255\n",
    "prediction = model_1.predict(val)[0]\n",
    "print('Predicted value:', np.argmax(prediction))\n"
   ]
  },
  {
   "cell_type": "code",
   "execution_count": 80,
   "metadata": {},
   "outputs": [
    {
     "name": "stdout",
     "output_type": "stream",
     "text": [
      "True value: 4\n",
      "Predicted value: 4\n"
     ]
    },
    {
     "data": {
      "image/png": "[encoded data removed]",
      "text/plain": [
       "<Figure size 432x288 with 1 Axes>"
      ]
     },
     "metadata": {
      "needs_background": "light"
     },
     "output_type": "display_data"
    }
   ],
   "source": [
    "random_number = randint(0, x_test.shape[0]-1)\n",
    "plt.imshow(x_test[random_number])\n",
    "print('True value:', y_test[random_number])\n",
    "val = x_test[random_number, np.newaxis]\n",
    "val = val.reshape((val.shape[0],) + input_shape)\n",
    "val.shape\n",
    "val = val.astype('float32')\n",
    "val /= 255\n",
    "prediction = model_1.predict(val)[0]\n",
    "print('Predicted value:', np.argmax(prediction))"
   ]
  },
  {
   "cell_type": "code",
   "execution_count": 81,
   "metadata": {},
   "outputs": [
    {
     "name": "stdout",
     "output_type": "stream",
     "text": [
      "True value: 3\n",
      "Predicted value: 7\n"
     ]
    },
    {
     "data": {
      "image/png": "[encoded data removed]",
      "text/plain": [
       "<Figure size 432x288 with 1 Axes>"
      ]
     },
     "metadata": {
      "needs_background": "light"
     },
     "output_type": "display_data"
    }
   ],
   "source": [
    "random_number = randint(0, x_test.shape[0]-1)\n",
    "plt.imshow(x_test[random_number])\n",
    "print('True value:', y_test[random_number])\n",
    "val = x_test[random_number, np.newaxis]\n",
    "val = val.reshape((val.shape[0],) + input_shape)\n",
    "val.shape\n",
    "val = val.astype('float32')\n",
    "val /= 255\n",
    "prediction = model_1.predict(val)[0]\n",
    "print('Predicted value:', np.argmax(prediction))"
   ]
  }
 ],
 "metadata": {
  "interpreter": {
   "hash": "7747e7195e9d44b82c03001d9b51198fd2844af97dd06c0bb8c0b2987395889e"
  },
  "kernelspec": {
   "display_name": "Python 3.8.8 64-bit ('base': conda)",
   "language": "python",
   "name": "python3"
  },
  "language_info": {
   "codemirror_mode": {
    "name": "ipython",
    "version": 3
   },
   "file_extension": ".py",
   "mimetype": "text/x-python",
   "name": "python",
   "nbconvert_exporter": "python",
   "pygments_lexer": "ipython3",
   "version": "3.8.8"
  },
  "orig_nbformat": 4
 },
 "nbformat": 4,
 "nbformat_minor": 2
}
